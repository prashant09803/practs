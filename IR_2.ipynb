{
 "cells": [
  {
   "cell_type": "code",
   "execution_count": 14,
   "metadata": {},
   "outputs": [],
   "source": [
    "import pandas as pd\n",
    "from pgmpy.estimators import MaximumLikelihoodEstimator \n",
    "from pgmpy.inference import VariableElimination \n",
    "from pgmpy.models import BayesianModel "
   ]
  },
  {
   "cell_type": "code",
   "execution_count": 15,
   "metadata": {},
   "outputs": [
    {
     "name": "stdout",
     "output_type": "stream",
     "text": [
      "    age  Gender  Family  diet  Lifestyle  cholestrol  heartdisease\n",
      "0     0       0       1     1          3           0             1\n",
      "1     0       1       1     1          3           0             1\n",
      "2     1       0       0     0          2           1             1\n",
      "3     4       0       1     1          3           2             0\n",
      "4     3       1       1     0          0           2             0\n",
      "5     2       0       1     1          1           0             1\n",
      "6     4       0       1     0          2           0             1\n",
      "7     0       0       1     1          3           0             1\n",
      "8     3       1       1     0          0           2             0\n",
      "9     1       1       0     0          0           2             1\n",
      "10    4       1       0     1          2           0             1\n",
      "11    4       0       1     1          3           2             0\n",
      "12    2       1       0     0          0           0             0\n",
      "13    2       0       1     1          1           0             1\n",
      "14    3       1       1     0          0           1             0\n",
      "15    0       0       1     0          0           2             1\n",
      "16    1       1       0     1          2           1             1\n",
      "17    3       1       1     1          0           1             0\n",
      "18    4       0       1     1          3           2             0\n"
     ]
    }
   ],
   "source": [
    "data=pd.read_csv(\"heartdisease.csv\")\n",
    "heart_disease=pd.DataFrame(data) \n",
    "print(heart_disease) "
   ]
  },
  {
   "cell_type": "code",
   "execution_count": 16,
   "metadata": {},
   "outputs": [
    {
     "name": "stderr",
     "output_type": "stream",
     "text": [
      "WARNING:pgmpy:BayesianModel has been renamed to BayesianNetwork. Please use BayesianNetwork class, BayesianModel will be removed in future.\n"
     ]
    }
   ],
   "source": [
    "model=BayesianModel([\n",
    "('age', 'Lifestyle'), \n",
    "('Gender', 'Lifestyle'), \n",
    "('Family', 'heartdisease'), \n",
    "('diet', 'cholestrol'), \n",
    "('Lifestyle', 'diet'), \n",
    "('cholestrol', 'heartdisease'), \n",
    "('diet', 'cholestrol') \n",
    "]) "
   ]
  },
  {
   "cell_type": "code",
   "execution_count": 17,
   "metadata": {},
   "outputs": [],
   "source": [
    "model.fit(heart_disease, estimator=MaximumLikelihoodEstimator)\n",
    "HeartDisease_infer = VariableElimination(model)"
   ]
  },
  {
   "cell_type": "code",
   "execution_count": 18,
   "metadata": {},
   "outputs": [
    {
     "name": "stdout",
     "output_type": "stream",
     "text": [
      "For age Enter { SuperSeniorCitizen:0, SeniorCitizen:1, MiddleAged:2, Youth:3, Teen:4\n",
      "For Gender Enter { Male:0, Female:1 }\n",
      "For Family History Enter { yes:1, No:0 }\n",
      "For diet Enter { High:0, Medium:1 }\n",
      "For lifestyle Enter { Athlete:0, Active:1, Moderate:2, Sedentary:3 }\n",
      "For cholesterol Enter { High:0, BorderLine:1, Normal:2 }\n"
     ]
    }
   ],
   "source": [
    "print('For age Enter { SuperSeniorCitizen:0, SeniorCitizen:1, MiddleAged:2, Youth:3, Teen:4')\n",
    "print('For Gender Enter { Male:0, Female:1 }') \n",
    "print('For Family History Enter { yes:1, No:0 }') \n",
    "print('For diet Enter { High:0, Medium:1 }') \n",
    "print('For lifestyle Enter { Athlete:0, Active:1, Moderate:2, Sedentary:3 }') \n",
    "print('For cholesterol Enter { High:0, BorderLine:1, Normal:2 }') "
   ]
  },
  {
   "cell_type": "code",
   "execution_count": 22,
   "metadata": {},
   "outputs": [
    {
     "ename": "ValueError",
     "evalue": "invalid literal for int() with base 10: ''",
     "output_type": "error",
     "traceback": [
      "\u001b[1;31m---------------------------------------------------------------------------\u001b[0m",
      "\u001b[1;31mValueError\u001b[0m                                Traceback (most recent call last)",
      "\u001b[1;32mp:\\Codes\\Practicals\\IR\\IR_2.ipynb Cell 6\u001b[0m line \u001b[0;36m5\n\u001b[0;32m      <a href='vscode-notebook-cell:/p%3A/Codes/Practicals/IR/IR_2.ipynb#W5sZmlsZQ%3D%3D?line=0'>1</a>\u001b[0m q \u001b[39m=\u001b[39m HeartDisease_infer\u001b[39m.\u001b[39mquery(variables\u001b[39m=\u001b[39m[\u001b[39m'\u001b[39m\u001b[39mheartdisease\u001b[39m\u001b[39m'\u001b[39m], evidence\u001b[39m=\u001b[39m{\n\u001b[0;32m      <a href='vscode-notebook-cell:/p%3A/Codes/Practicals/IR/IR_2.ipynb#W5sZmlsZQ%3D%3D?line=1'>2</a>\u001b[0m     \u001b[39m'\u001b[39m\u001b[39mage\u001b[39m\u001b[39m'\u001b[39m: \u001b[39mint\u001b[39m(\u001b[39minput\u001b[39m(\u001b[39m'\u001b[39m\u001b[39mEnter age (0-4): \u001b[39m\u001b[39m'\u001b[39m)), \n\u001b[0;32m      <a href='vscode-notebook-cell:/p%3A/Codes/Practicals/IR/IR_2.ipynb#W5sZmlsZQ%3D%3D?line=2'>3</a>\u001b[0m     \u001b[39m'\u001b[39m\u001b[39mGender\u001b[39m\u001b[39m'\u001b[39m: \u001b[39mint\u001b[39m(\u001b[39minput\u001b[39m(\u001b[39m'\u001b[39m\u001b[39mEnter Gender (0 or 1): \u001b[39m\u001b[39m'\u001b[39m)), \n\u001b[0;32m      <a href='vscode-notebook-cell:/p%3A/Codes/Practicals/IR/IR_2.ipynb#W5sZmlsZQ%3D%3D?line=3'>4</a>\u001b[0m     \u001b[39m'\u001b[39m\u001b[39mFamily\u001b[39m\u001b[39m'\u001b[39m: \u001b[39mint\u001b[39m(\u001b[39minput\u001b[39m(\u001b[39m'\u001b[39m\u001b[39mEnter Family History (0 or 1): \u001b[39m\u001b[39m'\u001b[39m)), \n\u001b[1;32m----> <a href='vscode-notebook-cell:/p%3A/Codes/Practicals/IR/IR_2.ipynb#W5sZmlsZQ%3D%3D?line=4'>5</a>\u001b[0m     \u001b[39m'\u001b[39m\u001b[39mdiet\u001b[39m\u001b[39m'\u001b[39m: \u001b[39mint\u001b[39;49m(\u001b[39minput\u001b[39;49m(\u001b[39m'\u001b[39;49m\u001b[39mEnter Diet (0-3): \u001b[39;49m\u001b[39m'\u001b[39;49m)), \n\u001b[0;32m      <a href='vscode-notebook-cell:/p%3A/Codes/Practicals/IR/IR_2.ipynb#W5sZmlsZQ%3D%3D?line=5'>6</a>\u001b[0m     \u001b[39m'\u001b[39m\u001b[39mLifestyle\u001b[39m\u001b[39m'\u001b[39m: \u001b[39mint\u001b[39m(\u001b[39minput\u001b[39m(\u001b[39m'\u001b[39m\u001b[39mEnter Lifestyle (0-3): \u001b[39m\u001b[39m'\u001b[39m)), \n\u001b[0;32m      <a href='vscode-notebook-cell:/p%3A/Codes/Practicals/IR/IR_2.ipynb#W5sZmlsZQ%3D%3D?line=6'>7</a>\u001b[0m     \u001b[39m'\u001b[39m\u001b[39mcholestrol\u001b[39m\u001b[39m'\u001b[39m: \u001b[39mint\u001b[39m(\u001b[39minput\u001b[39m(\u001b[39m'\u001b[39m\u001b[39mEnter cholestrol (0-2): \u001b[39m\u001b[39m'\u001b[39m))\n\u001b[0;32m      <a href='vscode-notebook-cell:/p%3A/Codes/Practicals/IR/IR_2.ipynb#W5sZmlsZQ%3D%3D?line=7'>8</a>\u001b[0m }) \n",
      "\u001b[1;31mValueError\u001b[0m: invalid literal for int() with base 10: ''"
     ]
    }
   ],
   "source": [
    "q = HeartDisease_infer.query(variables=['heartdisease'], evidence={\n",
    "    'age': int(input('Enter age (0-4): ')), \n",
    "    'Gender': int(input('Enter Gender (0 or 1): ')), \n",
    "    'Family': int(input('Enter Family History (0 or 1): ')), \n",
    "    'diet': int(input('Enter Diet (0-3): ')), \n",
    "    'Lifestyle': int(input('Enter Lifestyle (0-3): ')), \n",
    "    'cholestrol': int(input('Enter cholestrol (0-2): '))\n",
    "}) "
   ]
  },
  {
   "cell_type": "code",
   "execution_count": 21,
   "metadata": {},
   "outputs": [
    {
     "name": "stdout",
     "output_type": "stream",
     "text": [
      "+----------------+---------------------+\n",
      "I heartdisease I phi(heartdisease) I\n",
      "+----------------+---------------------+\n",
      "I heartdisease_0 I 0.0 I\n",
      "I heartdisease_1 I 1.0 I\n",
      "+----------------+---------------------+\n"
     ]
    }
   ],
   "source": [
    "print(\"+----------------+---------------------+\") \n",
    "print(\"I heartdisease I phi(heartdisease) I\")\n",
    "print(\"+----------------+---------------------+\")\n",
    "for i, prob in enumerate(q.values): \n",
    "    # Constructing state names Like 'heartdisease_e', 'heartdisease_l', etc. \n",
    "    state_name = f\"heartdisease_{i}\" \n",
    "    print(f\"I {state_name} I {prob} I\") \n",
    "print(\"+----------------+---------------------+\")"
   ]
  },
  {
   "cell_type": "code",
   "execution_count": null,
   "metadata": {},
   "outputs": [],
   "source": []
  }
 ],
 "metadata": {
  "kernelspec": {
   "display_name": "Python 3",
   "language": "python",
   "name": "python3"
  },
  "language_info": {
   "codemirror_mode": {
    "name": "ipython",
    "version": 3
   },
   "file_extension": ".py",
   "mimetype": "text/x-python",
   "name": "python",
   "nbconvert_exporter": "python",
   "pygments_lexer": "ipython3",
   "version": "3.12.0"
  }
 },
 "nbformat": 4,
 "nbformat_minor": 2
}
