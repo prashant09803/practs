{
 "cells": [
  {
   "cell_type": "code",
   "execution_count": 1,
   "id": "c0ae3f2b",
   "metadata": {},
   "outputs": [],
   "source": [
    "import requests\n",
    "from bs4 import BeautifulSoup\n",
    "import csv\n",
    "import pandas as pd\n",
    "import time "
   ]
  },
  {
   "cell_type": "code",
   "execution_count": 2,
   "id": "8d8a60a5",
   "metadata": {},
   "outputs": [],
   "source": [
    "base_url = 'http://books.toscrape.com/catalogue/category/books_1/page-{}.html'  # Pagination\n",
    "all_books = []"
   ]
  },
  {
   "cell_type": "code",
   "execution_count": 3,
   "id": "fcc40651",
   "metadata": {},
   "outputs": [],
   "source": [
    "def crawl_book_site(url):\n",
    "    \n",
    "    response = requests.get(url)\n",
    "    \n",
    "    if response.status_code != 200:\n",
    "        print(f\"Failed to retrieve {url} (status code: {response.status_code})\")\n",
    "        return []\n",
    "\n",
    "    soup = BeautifulSoup(response.text, 'html.parser')\n",
    "    \n",
    "    books = soup.find_all('article', class_='product_pod')  # Adjusted for Books to Scrape\n",
    "    book_info = []\n",
    "\n",
    "    for book in books:\n",
    "        title = book.h3.a['title']  # Extracting title\n",
    "        price = book.find('p', class_='price_color').text  # Extracting price\n",
    "        link = book.h3.a['href']  # Extracting link\n",
    "        author = \"Unknown\"  # Books to Scrape does not provide author information directly\n",
    "        \n",
    "        book_info.append({\n",
    "            'title': title,\n",
    "            'author': author,\n",
    "            'price': price,\n",
    "            'link': link\n",
    "        })\n",
    "    \n",
    "    return book_info\n"
   ]
  },
  {
   "cell_type": "code",
   "execution_count": 4,
   "id": "c8fd0cae",
   "metadata": {},
   "outputs": [],
   "source": [
    "for i in range(1, 6):  # Adjust the range for more pages\n",
    "    url = base_url.format(i)\n",
    "    books = crawl_book_site(url)\n",
    "    all_books.extend(books)\n",
    "    time.sleep(1)  "
   ]
  },
  {
   "cell_type": "code",
   "execution_count": 5,
   "id": "7415d03c",
   "metadata": {},
   "outputs": [
    {
     "name": "stdout",
     "output_type": "stream",
     "text": [
      "Scraping completed. Data saved to books.csv.\n"
     ]
    }
   ],
   "source": [
    "with open('books.csv', 'w', newline='', encoding='utf-8') as csvfile:\n",
    "    fieldnames = ['title', 'author', 'price', 'link']\n",
    "    writer = csv.DictWriter(csvfile, fieldnames=fieldnames)\n",
    "    \n",
    "    writer.writeheader()\n",
    "    for book in all_books:\n",
    "        writer.writerow(book)\n",
    "\n",
    "print(\"Scraping completed. Data saved to books.csv.\")"
   ]
  },
  {
   "cell_type": "code",
   "execution_count": 6,
   "id": "d7459925",
   "metadata": {},
   "outputs": [],
   "source": [
    "data=pd.read_csv('books.csv')"
   ]
  },
  {
   "cell_type": "code",
   "execution_count": 14,
   "id": "2be4d6d3",
   "metadata": {},
   "outputs": [
    {
     "name": "stdout",
     "output_type": "stream",
     "text": [
      "                                   title   author    price  \\\n",
      "0                   A Light in the Attic  Unknown  Â£51.77   \n",
      "1                     Tipping the Velvet  Unknown  Â£53.74   \n",
      "2                             Soumission  Unknown  Â£50.10   \n",
      "3                          Sharp Objects  Unknown  Â£47.82   \n",
      "4  Sapiens: A Brief History of Humankind  Unknown  Â£54.23   \n",
      "\n",
      "                                                link  \n",
      "0         ../../a-light-in-the-attic_1000/index.html  \n",
      "1            ../../tipping-the-velvet_999/index.html  \n",
      "2                    ../../soumission_998/index.html  \n",
      "3                 ../../sharp-objects_997/index.html  \n",
      "4  ../../sapiens-a-brief-history-of-humankind_996...  \n"
     ]
    }
   ],
   "source": [
    "print(data.head())"
   ]
  }
 ],
 "metadata": {
  "kernelspec": {
   "display_name": "Python 3 (ipykernel)",
   "language": "python",
   "name": "python3"
  },
  "language_info": {
   "codemirror_mode": {
    "name": "ipython",
    "version": 3
   },
   "file_extension": ".py",
   "mimetype": "text/x-python",
   "name": "python",
   "nbconvert_exporter": "python",
   "pygments_lexer": "ipython3",
   "version": "3.12.0"
  }
 },
 "nbformat": 4,
 "nbformat_minor": 5
}
